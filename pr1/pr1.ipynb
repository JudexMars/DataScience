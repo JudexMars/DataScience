{
 "cells": [
  {
   "metadata": {},
   "cell_type": "markdown",
   "source": [
    "# Ex. 2.\n",
    "Написать программу, которая вычисляет площадь фигуры,\n",
    "параметры которой подаются на вход. Фигуры, которые подаются на вход:\n",
    "треугольник, прямоугольник, круг. Результатом работы является словарь, где\n",
    "ключ – это название фигуры, а значение – это площадь.\n"
   ],
   "id": "1775115709f8a667"
  },
  {
   "metadata": {
    "collapsed": true,
    "ExecuteTime": {
     "end_time": "2024-09-07T09:57:23.651547Z",
     "start_time": "2024-09-07T09:57:23.646186Z"
    }
   },
   "cell_type": "code",
   "source": [
    "import math\n",
    "from abc import ABC, abstractmethod\n",
    "\n",
    "class Shape(ABC):\n",
    "    @abstractmethod\n",
    "    def area(self) -> float:\n",
    "        pass\n",
    "\n",
    "class Triangle(Shape):\n",
    "    def __init__(self, base: float, height: float):\n",
    "        self.base = base\n",
    "        self.height = height\n",
    "    \n",
    "    def area(self) -> float:\n",
    "        return 0.5 * self.base * self.height\n",
    "\n",
    "class Rectangle(Shape):\n",
    "    def __init__(self, width: float, height: float):\n",
    "        self.width = width\n",
    "        self.height = height\n",
    "    \n",
    "    def area(self) -> float:\n",
    "        return self.width * self.height\n",
    "\n",
    "class Circle(Shape):\n",
    "    def __init__(self, radius: float):\n",
    "        self.radius = radius\n",
    "    \n",
    "    def area(self) -> float:\n",
    "        return math.pi * self.radius ** 2\n",
    "\n",
    "def calculate_area(shape: Shape) -> dict:\n",
    "    return {shape.__class__.__name__: shape.area()}\n",
    "\n",
    "def main():\n",
    "    triangle = Triangle(base=3, height=4)\n",
    "    rectangle = Rectangle(width=5, height=6)\n",
    "    circle = Circle(radius=2)\n",
    "    \n",
    "    shapes = [triangle, rectangle, circle]\n",
    "    \n",
    "    areas = {}\n",
    "    for shape in shapes:\n",
    "        areas.update(calculate_area(shape))\n",
    "    \n",
    "    print(areas)\n",
    "\n",
    "if __name__ == \"__main__\":\n",
    "    main()\n"
   ],
   "id": "initial_id",
   "outputs": [
    {
     "name": "stdout",
     "output_type": "stream",
     "text": [
      "{'Triangle': 6.0, 'Rectangle': 30, 'Circle': 12.566370614359172}\n"
     ]
    }
   ],
   "execution_count": 1
  },
  {
   "metadata": {},
   "cell_type": "markdown",
   "source": [
    "# Ex. 3\n",
    "Написать программу, которая на вход получает два числа и\n",
    "операцию, которую к ним нужно применить. Должны быть реализованы\n",
    "следующие операции: +, -, /, //, abs – модуль, pow или ** – возведение в\n",
    "степень."
   ],
   "id": "48f0785f16d3c5e1"
  },
  {
   "metadata": {
    "ExecuteTime": {
     "end_time": "2024-09-07T10:04:39.517203Z",
     "start_time": "2024-09-07T10:04:28.872103Z"
    }
   },
   "cell_type": "code",
   "source": [
    "def add(a, b):\n",
    "    return a + b\n",
    "\n",
    "def subtract(a, b):\n",
    "    return a - b\n",
    "\n",
    "def divide(a, b):\n",
    "    if b == 0:\n",
    "        raise ValueError(\"Division by zero is not allowed.\")\n",
    "    return a / b\n",
    "\n",
    "def integer_divide(a, b):\n",
    "    if b == 0:\n",
    "        raise ValueError(\"Integer division by zero is not allowed.\")\n",
    "    return a // b\n",
    "\n",
    "def abs_value(a, _):\n",
    "    return abs(a)\n",
    "\n",
    "def power(a, b):\n",
    "    return a ** b\n",
    "\n",
    "def calculate(a, b, operation):\n",
    "    operations = {\n",
    "        '+': add,\n",
    "        '-': subtract,\n",
    "        '/': divide,\n",
    "        '//': integer_divide,\n",
    "        'abs': abs_value,\n",
    "        '**': power,\n",
    "        'pow': power\n",
    "    }\n",
    "    \n",
    "    if operation not in operations:\n",
    "        raise ValueError(f\"Operation {operation} is not supported.\")\n",
    "    \n",
    "    return operations[operation](a, b)\n",
    "\n",
    "def main():\n",
    "    try:\n",
    "        a = float(input(\"Enter the first number: \"))\n",
    "        b = float(input(\"Enter the second number: \"))\n",
    "        operation = input(\"Enter the operation (+, -, /, //, abs, **, pow): \")\n",
    "        \n",
    "        result = calculate(a, b, operation)\n",
    "        print(f\"Result: {result}\")\n",
    "    \n",
    "    except ValueError as e:\n",
    "        print(f\"Error: {e}\")\n",
    "\n",
    "\n",
    "if __name__ == \"__main__\":\n",
    "    main()"
   ],
   "id": "ab51fda16f0a82c1",
   "outputs": [
    {
     "name": "stdout",
     "output_type": "stream",
     "text": [
      "Result: 0.625\n"
     ]
    }
   ],
   "execution_count": 3
  },
  {
   "metadata": {},
   "cell_type": "markdown",
   "source": [
    "# Ex. 4\n",
    "Напишите программу, которая считывает с консоли числа (по\n",
    "одному в строке) до тех пор, пока сумма введённых чисел не будет равна 0 и\n",
    "после этого выводит сумму квадратов всех считанных чисел."
   ],
   "id": "1dacc1b0e0b8bb5d"
  },
  {
   "metadata": {
    "ExecuteTime": {
     "end_time": "2024-09-07T10:07:00.019035Z",
     "start_time": "2024-09-07T10:06:47.563720Z"
    }
   },
   "cell_type": "code",
   "source": [
    "def main():\n",
    "    numbers = []\n",
    "    total_sum = 0\n",
    "\n",
    "    while True:\n",
    "        number = float(input(\"Введите число: \"))\n",
    "        numbers.append(number)\n",
    "        total_sum += number\n",
    "        \n",
    "        if total_sum == 0:\n",
    "            break\n",
    "\n",
    "    sum_of_squares = sum(x ** 2 for x in numbers)\n",
    "    print(f\"Сумма квадратов введённых чисел: {sum_of_squares}\")\n",
    "\n",
    "if __name__ == \"__main__\":\n",
    "    main()\n"
   ],
   "id": "3789c0f43898c3a1",
   "outputs": [
    {
     "name": "stdout",
     "output_type": "stream",
     "text": [
      "Сумма квадратов введённых чисел: 28.0\n"
     ]
    }
   ],
   "execution_count": 4
  },
  {
   "metadata": {},
   "cell_type": "markdown",
   "source": [
    "# Ex. 5\n",
    "Напишите программу, которая выводит последовательность\n",
    "чисел, длинною N, где каждое число повторяется столько раз, чему оно равно.\n",
    "На вход программе передаётся неотрицательное целое число N. Например,\n",
    "если N = 7, то программа должна вывести 1 2 2 3 3 3 4. Вывод элементов списка\n",
    "через пробел – print(*list)."
   ],
   "id": "630c8a836de66307"
  },
  {
   "metadata": {
    "ExecuteTime": {
     "end_time": "2024-09-07T10:09:19.651859Z",
     "start_time": "2024-09-07T10:09:15.581594Z"
    }
   },
   "cell_type": "code",
   "source": [
    "def generate_sequence(n):\n",
    "    sequence = []\n",
    "    \n",
    "    for i in range(1, n + 1):\n",
    "        sequence.extend([i] * i)\n",
    "        \n",
    "        if len(sequence) >= n:\n",
    "            break\n",
    "    \n",
    "    return sequence[:n]\n",
    "\n",
    "def main():\n",
    "    n = int(input(\"Введите число N: \"))\n",
    "    \n",
    "    if n < 0:\n",
    "        print(\"Число N должно быть неотрицательным\")\n",
    "    else:\n",
    "        result = generate_sequence(n)\n",
    "        print(*result)\n",
    "\n",
    "\n",
    "if __name__ == \"__main__\":\n",
    "    main()"
   ],
   "id": "761a09f29f457ba3",
   "outputs": [
    {
     "name": "stdout",
     "output_type": "stream",
     "text": [
      "1 2 2 3 3 3 4 4 4 4\n"
     ]
    }
   ],
   "execution_count": 5
  },
  {
   "metadata": {},
   "cell_type": "markdown",
   "source": [
    "# Ex. 6\n",
    "Даны два списка:\n",
    "\n",
    "А = [1, 2, 3, 4, 2, 1, 3, 4, 5, 6, 5, 4, 3, 2]\n",
    "\n",
    "В = [‘a’, ’b’, ’c’, ’c’, ’c’, ’b’, ’a’, ’c’, ’a’, ’a’, ’b’, ’c’, ’b’, ’a’]\n",
    "\n",
    "Создать словарь, в котором ключи – это содержимое списка В, а\n",
    "значения для ключей словаря – это сумма всех элементов списка А в\n",
    "соответствии с буквой, содержащийся на той же позиции в списке В.\n",
    "Пример результата программы:\n",
    " \n",
    "{‘a’ : 10, ‘b’ : 15, ‘c’ : 6}."
   ],
   "id": "7b039a8f8da6362d"
  },
  {
   "metadata": {
    "ExecuteTime": {
     "end_time": "2024-09-07T10:39:41.350179Z",
     "start_time": "2024-09-07T10:39:41.344112Z"
    }
   },
   "cell_type": "code",
   "source": [
    "def main():\n",
    "    a = [1, 2, 3, 4, 2, 1, 3, 4, 5, 6, 5, 4, 3, 2]\n",
    "    b = ['a', 'b', 'c', 'c', 'c', 'b', 'a', 'c', 'a', 'a', 'b', 'c', 'b', 'a']\n",
    "    \n",
    "    result = {}\n",
    "    \n",
    "    for ax, bx in zip(a, b):\n",
    "        if bx not in result:\n",
    "            result[bx] = 0\n",
    "        result[bx] += ax\n",
    "    \n",
    "    print(result)\n",
    "    \n",
    "if __name__ == \"__main__\":\n",
    "    main()"
   ],
   "id": "bbc4f3f101f06c0b",
   "outputs": [
    {
     "name": "stdout",
     "output_type": "stream",
     "text": [
      "{'a': 17, 'b': 11, 'c': 17}\n"
     ]
    }
   ],
   "execution_count": 15
  },
  {
   "metadata": {},
   "cell_type": "markdown",
   "source": [
    "Скачать и загрузить данные о стоимости домов в калифорнии,\n",
    "используя библиотеку sklearn."
   ],
   "id": "f5020e9ed7062730"
  },
  {
   "metadata": {
    "ExecuteTime": {
     "end_time": "2024-09-07T10:15:38.800935Z",
     "start_time": "2024-09-07T10:15:35.840951Z"
    }
   },
   "cell_type": "code",
   "source": [
    "from sklearn.datasets import fetch_california_housing\n",
    "\n",
    "# Загрузка данных о стоимости домов в Калифорнии\n",
    "data = fetch_california_housing(as_frame=True)\n",
    "\n",
    "# Получение фрейма с данными\n",
    "df = data.frame\n",
    "\n",
    "# Вывод первых 5 строк\n",
    "print(df.head())"
   ],
   "id": "37de5c792c128f11",
   "outputs": [
    {
     "name": "stdout",
     "output_type": "stream",
     "text": [
      "   MedInc  HouseAge  AveRooms  AveBedrms  Population  AveOccup  Latitude  \\\n",
      "0  8.3252      41.0  6.984127   1.023810       322.0  2.555556     37.88   \n",
      "1  8.3014      21.0  6.238137   0.971880      2401.0  2.109842     37.86   \n",
      "2  7.2574      52.0  8.288136   1.073446       496.0  2.802260     37.85   \n",
      "3  5.6431      52.0  5.817352   1.073059       558.0  2.547945     37.85   \n",
      "4  3.8462      52.0  6.281853   1.081081       565.0  2.181467     37.85   \n",
      "\n",
      "   Longitude  MedHouseVal  \n",
      "0    -122.23        4.526  \n",
      "1    -122.22        3.585  \n",
      "2    -122.24        3.521  \n",
      "3    -122.25        3.413  \n",
      "4    -122.25        3.422  \n"
     ]
    }
   ],
   "execution_count": 7
  },
  {
   "metadata": {},
   "cell_type": "markdown",
   "source": [
    "# Ex. 8\n",
    " Использовать метод info()."
   ],
   "id": "5651bb384e00923c"
  },
  {
   "metadata": {
    "ExecuteTime": {
     "end_time": "2024-09-07T10:23:39.130766Z",
     "start_time": "2024-09-07T10:23:39.035104Z"
    }
   },
   "cell_type": "code",
   "source": "df.info()",
   "id": "1c22066f33446dfd",
   "outputs": [
    {
     "name": "stdout",
     "output_type": "stream",
     "text": [
      "<class 'pandas.core.frame.DataFrame'>\n",
      "RangeIndex: 20640 entries, 0 to 20639\n",
      "Data columns (total 9 columns):\n",
      " #   Column       Non-Null Count  Dtype  \n",
      "---  ------       --------------  -----  \n",
      " 0   MedInc       20640 non-null  float64\n",
      " 1   HouseAge     20640 non-null  float64\n",
      " 2   AveRooms     20640 non-null  float64\n",
      " 3   AveBedrms    20640 non-null  float64\n",
      " 4   Population   20640 non-null  float64\n",
      " 5   AveOccup     20640 non-null  float64\n",
      " 6   Latitude     20640 non-null  float64\n",
      " 7   Longitude    20640 non-null  float64\n",
      " 8   MedHouseVal  20640 non-null  float64\n",
      "dtypes: float64(9)\n",
      "memory usage: 1.4 MB\n"
     ]
    }
   ],
   "execution_count": 8
  },
  {
   "metadata": {},
   "cell_type": "markdown",
   "source": [
    "# Ex. 9\n",
    "Узнать, есть ли пропущенные значения, используя isna().sum()."
   ],
   "id": "1616ddd8e9518c6f"
  },
  {
   "metadata": {
    "ExecuteTime": {
     "end_time": "2024-09-07T10:24:22.509434Z",
     "start_time": "2024-09-07T10:24:22.497928Z"
    }
   },
   "cell_type": "code",
   "source": [
    "missing_values = df.isna().sum()\n",
    "print(missing_values)"
   ],
   "id": "6b6777f12a0ee022",
   "outputs": [
    {
     "name": "stdout",
     "output_type": "stream",
     "text": [
      "MedInc         0\n",
      "HouseAge       0\n",
      "AveRooms       0\n",
      "AveBedrms      0\n",
      "Population     0\n",
      "AveOccup       0\n",
      "Latitude       0\n",
      "Longitude      0\n",
      "MedHouseVal    0\n",
      "dtype: int64\n"
     ]
    }
   ],
   "execution_count": 9
  },
  {
   "metadata": {},
   "cell_type": "markdown",
   "source": "",
   "id": "87c3c555f0ef6df"
  },
  {
   "metadata": {},
   "cell_type": "markdown",
   "source": [
    "# Ex. 10 \n",
    "Вывести записи, где средний возраст домов в районе более 50 лет и\n",
    "население более 2500 человек, используя метод loc()."
   ],
   "id": "8c907ccd8bb13f6d"
  },
  {
   "metadata": {
    "ExecuteTime": {
     "end_time": "2024-09-07T10:24:57.417704Z",
     "start_time": "2024-09-07T10:24:57.378920Z"
    }
   },
   "cell_type": "code",
   "source": [
    "filtered_data = df.loc[(df['HouseAge'] > 50) & (df['Population'] > 2500)]\n",
    "print(filtered_data)"
   ],
   "id": "86acbec64fa7482c",
   "outputs": [
    {
     "name": "stdout",
     "output_type": "stream",
     "text": [
      "       MedInc  HouseAge  AveRooms  AveBedrms  Population    AveOccup  \\\n",
      "460    1.4012      52.0  3.105714   1.060000      3337.0    9.534286   \n",
      "4131   3.5349      52.0  4.646119   1.047945      2589.0    5.910959   \n",
      "4440   2.6806      52.0  4.806283   1.057592      3062.0    4.007853   \n",
      "5986   1.8750      52.0  4.500000   1.206349      2688.0   21.333333   \n",
      "7369   3.1901      52.0  4.730942   1.017937      3731.0    4.182735   \n",
      "8227   2.3305      52.0  3.488860   1.170380      3018.0    3.955439   \n",
      "13034  6.1359      52.0  8.275862   1.517241      6675.0  230.172414   \n",
      "15634  1.8295      52.0  2.628169   1.053521      2957.0    4.164789   \n",
      "15652  0.9000      52.0  2.237474   1.053535      3260.0    2.237474   \n",
      "15657  2.5166      52.0  2.839075   1.184049      3436.0    1.621520   \n",
      "15659  1.7240      52.0  2.278566   1.082348      4518.0    1.780142   \n",
      "15795  2.5755      52.0  3.402576   1.058776      2619.0    2.108696   \n",
      "15868  2.8135      52.0  4.584329   1.041169      2987.0    3.966799   \n",
      "\n",
      "       Latitude  Longitude  MedHouseVal  \n",
      "460       37.87    -122.26      1.75000  \n",
      "4131      34.13    -118.20      1.93600  \n",
      "4440      34.08    -118.21      1.53000  \n",
      "5986      34.10    -117.71      2.12500  \n",
      "7369      33.97    -118.21      1.67600  \n",
      "8227      33.78    -118.20      1.62500  \n",
      "13034     38.69    -121.15      2.25000  \n",
      "15634     37.80    -122.41      2.43800  \n",
      "15652     37.80    -122.41      5.00001  \n",
      "15657     37.79    -122.41      2.75000  \n",
      "15659     37.79    -122.41      2.25000  \n",
      "15795     37.77    -122.42      3.25000  \n",
      "15868     37.76    -122.41      2.60300  \n"
     ]
    }
   ],
   "execution_count": 10
  },
  {
   "metadata": {},
   "cell_type": "markdown",
   "source": [
    "# Ex. 11\n",
    "Узнать максимальное и минимальное значения медианной\n",
    "стоимости дома."
   ],
   "id": "daf501e1dcaa7725"
  },
  {
   "metadata": {
    "ExecuteTime": {
     "end_time": "2024-09-07T10:25:35.337791Z",
     "start_time": "2024-09-07T10:25:35.331350Z"
    }
   },
   "cell_type": "code",
   "source": [
    "max_median_house_value = df['MedHouseVal'].max()\n",
    "min_median_house_value = df['MedHouseVal'].min()\n",
    "\n",
    "print(f\"Максимальная медианная стоимость дома: {max_median_house_value}\")\n",
    "print(f\"Минимальная медианная стоимость дома: {min_median_house_value}\")\n"
   ],
   "id": "e5df59aced79747b",
   "outputs": [
    {
     "name": "stdout",
     "output_type": "stream",
     "text": [
      "Максимальная медианная стоимость дома: 5.00001\n",
      "Минимальная медианная стоимость дома: 0.14999\n"
     ]
    }
   ],
   "execution_count": 11
  },
  {
   "metadata": {},
   "cell_type": "markdown",
   "source": [
    "# Ex. 12\n",
    "Используя метод apply(), вывести на экран название признака и его\n",
    "среднее значение."
   ],
   "id": "b3f9bf55f59505a5"
  },
  {
   "metadata": {
    "ExecuteTime": {
     "end_time": "2024-09-07T10:25:45.954637Z",
     "start_time": "2024-09-07T10:25:45.949359Z"
    }
   },
   "cell_type": "code",
   "source": [
    "# Выводим название столбца и его среднее значение\n",
    "average_values = df.apply(lambda col: col.mean())\n",
    "for column, mean_value in average_values.items():\n",
    "    print(f\"Признак: {column}, Среднее значение: {mean_value}\")\n"
   ],
   "id": "26571034cf2c086d",
   "outputs": [
    {
     "name": "stdout",
     "output_type": "stream",
     "text": [
      "Признак: MedInc, Среднее значение: 3.8706710029069766\n",
      "Признак: HouseAge, Среднее значение: 28.639486434108527\n",
      "Признак: AveRooms, Среднее значение: 5.428999742190376\n",
      "Признак: AveBedrms, Среднее значение: 1.096675149606208\n",
      "Признак: Population, Среднее значение: 1425.4767441860465\n",
      "Признак: AveOccup, Среднее значение: 3.0706551594363742\n",
      "Признак: Latitude, Среднее значение: 35.63186143410853\n",
      "Признак: Longitude, Среднее значение: -119.56970445736432\n",
      "Признак: MedHouseVal, Среднее значение: 2.068558169089147\n"
     ]
    }
   ],
   "execution_count": 12
  },
  {
   "metadata": {},
   "cell_type": "markdown",
   "source": [
    "# Ex. 1*\n",
    "Дан текст на английском языке. Необходимо закодировать его с\n",
    "помощью азбуки Морзе, где каждой букве соответствует\n",
    "последовательность точек и тире. Например, буква «g» превратится в\n",
    "строку «--.». В переменной morze для удобства хранится словарь\n",
    "соответствия латинских букв коду Морзе."
   ],
   "id": "8469a83eadefc3a"
  },
  {
   "metadata": {
    "ExecuteTime": {
     "end_time": "2024-09-07T10:32:06.750391Z",
     "start_time": "2024-09-07T10:31:55.556887Z"
    }
   },
   "cell_type": "code",
   "source": [
    "morze = {\n",
    "    'a': '.-', 'b': '-...', 'c': '-.-.', 'd': '-..',\n",
    "    'e': '.', 'f': '..-.', 'g': '--.', 'h': '....',\n",
    "    'i': '..', 'j': '.---', 'k': '-.-', 'l': '.-..',\n",
    "    'm': '--', 'n': '-.', 'o': '---', 'p': '.--.',\n",
    "    'q': '--.-', 'r': '.-.', 's': '...', 't': '-',\n",
    "    'u': '..-', 'v': '...-', 'w': '.--', 'x': '-..-',\n",
    "    'y': '-.--', 'z': '--..'\n",
    "}\n",
    "\n",
    "def text_to_morse(text):\n",
    "    text = text.lower()\n",
    "    \n",
    "    words = text.split()\n",
    "\n",
    "    morse_words = []\n",
    "\n",
    "    for word in words:\n",
    "        morse_word = ' '.join(morze[char] for char in word if char in morze)\n",
    "        morse_words.append(morse_word)\n",
    "\n",
    "    for morse_word in morse_words:\n",
    "        print(morse_word)\n",
    "\n",
    "def main():\n",
    "    text = input(\"Введите текст на английском языке: \")\n",
    "    text_to_morse(text)   \n",
    "    \n",
    "if __name__ == '__main__':\n",
    "    main()"
   ],
   "id": "3bf10b0c5886376e",
   "outputs": [
    {
     "name": "stdout",
     "output_type": "stream",
     "text": [
      ".... . .-.. .--.\n"
     ]
    }
   ],
   "execution_count": 13
  },
  {
   "metadata": {},
   "cell_type": "markdown",
   "source": [
    "# Ex. 2*\n",
    "В некотором городе открывается новая служба по доставке электронных\n",
    "писем. Необходимо наладить систему регистрации новых\n",
    "пользователей.\n",
    "\n",
    "Регистрация должна работать следующим образом: если новый\n",
    "пользователь хочет зарегистрироваться на сайте, то он должен послать\n",
    "системе запрос name со своим именем. Система должна определить,\n",
    "существует ли уже такое имя в базе данных. Если такого имени не\n",
    "существует, то оно заносится в базу данных системы и пользователю\n",
    "возвращается ответ \"ОК\", подтверждающий успешную регистрацию. А\n",
    "если пользователь с таким именем уже существует, то система должна\n",
    "сформировать новое имя и выдать его пользователю в качестве\n",
    "подсказки, при этом сама подсказка также добавляется в базу данных.\n",
    "Новое имя формируется следующим образом: к name последовательно\n",
    "приписываются числа, начиная с 1 (name1, name2 и так далее), и среди\n",
    "них находят такое наименьшее i, что namei еще не содержится в системе.\n",
    "\n"
   ],
   "id": "364d8f174ab2ce9d"
  },
  {
   "metadata": {
    "ExecuteTime": {
     "end_time": "2024-09-07T10:36:48.866649Z",
     "start_time": "2024-09-07T10:36:33.249936Z"
    }
   },
   "cell_type": "code",
   "source": [
    "def register_users(n, queries):\n",
    "    name_database = {}\n",
    "\n",
    "    for name in queries:\n",
    "        if name not in name_database:\n",
    "            name_database[name] = 0 \n",
    "            print(\"OK\")\n",
    "        else:\n",
    "            name_database[name] += 1\n",
    "            new_name = name + str(name_database[name])\n",
    "            \n",
    "            while new_name in name_database:\n",
    "                name_database[name] += 1\n",
    "                new_name = name + str(name_database[name])\n",
    "            \n",
    "            name_database[new_name] = 0\n",
    "            print(new_name)\n",
    "\n",
    "def main():\n",
    "    n = int(input())\n",
    "    queries = [input() for _ in range(n)] \n",
    "    register_users(n, queries)\n",
    "\n",
    "if __name__ == '__main__':\n",
    "    main()"
   ],
   "id": "8da523e26a65f44",
   "outputs": [
    {
     "name": "stdout",
     "output_type": "stream",
     "text": [
      "OK\n",
      "b1\n",
      "b2\n"
     ]
    }
   ],
   "execution_count": 14
  },
  {
   "metadata": {},
   "cell_type": "markdown",
   "source": [
    "# Ex. 3*\n",
    "\n",
    "Необходимо создать программу обработки запросов пользователей к\n",
    "файловой системе компьютера. Над каждым файлом можно производить\n",
    "следующие действия: запись – w (\"write\"), чтение – r (\"read\"), запуск – x\n",
    "(\"execute\")."
   ],
   "id": "5debffcd3d2a15d5"
  },
  {
   "metadata": {
    "ExecuteTime": {
     "end_time": "2024-09-07T10:41:10.577191Z",
     "start_time": "2024-09-07T10:40:39.412334Z"
    }
   },
   "cell_type": "code",
   "source": [
    "def process_file_system(n, files_info, m, requests):\n",
    "    file_permissions = {}\n",
    "\n",
    "    for file_info in files_info:\n",
    "        file_data = file_info.split()\n",
    "        file_name = file_data[0]\n",
    "        permissions = file_data[1:]\n",
    "        file_permissions[file_name] = permissions\n",
    "\n",
    "    action_to_permission = {\n",
    "        \"write\": \"w\",\n",
    "        \"read\": \"r\",\n",
    "        \"execute\": \"x\"\n",
    "    }\n",
    "\n",
    "    for request in requests:\n",
    "        action, file_name = request.split()\n",
    "\n",
    "        if action_to_permission[action] in file_permissions.get(file_name, []):\n",
    "            print(\"OK\")\n",
    "        else:\n",
    "            print(\"Access denied\")\n",
    "\n",
    "\n",
    "def main():\n",
    "    n = int(input())\n",
    "    files_info = [input() for _ in range(n)]\n",
    "    \n",
    "    m = int(input()) \n",
    "    requests = [input() for _ in range(m)]\n",
    "    \n",
    "    process_file_system(n, files_info, m, requests)\n",
    "\n",
    "if __name__ == '__main__':\n",
    "    main()"
   ],
   "id": "40c19a77bc1416a2",
   "outputs": [
    {
     "name": "stdout",
     "output_type": "stream",
     "text": [
      "Access denied\n",
      "OK\n",
      "OK\n",
      "OK\n",
      "OK\n"
     ]
    }
   ],
   "execution_count": 17
  }
 ],
 "metadata": {
  "kernelspec": {
   "display_name": "Python 3",
   "language": "python",
   "name": "python3"
  },
  "language_info": {
   "codemirror_mode": {
    "name": "ipython",
    "version": 2
   },
   "file_extension": ".py",
   "mimetype": "text/x-python",
   "name": "python",
   "nbconvert_exporter": "python",
   "pygments_lexer": "ipython2",
   "version": "2.7.6"
  }
 },
 "nbformat": 4,
 "nbformat_minor": 5
}
